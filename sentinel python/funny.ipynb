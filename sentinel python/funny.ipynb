{
 "cells": [
  {
   "cell_type": "markdown",
   "metadata": {},
   "source": [
    "Connected to Python 3.12.3"
   ]
  },
  {
   "cell_type": "code",
   "execution_count": null,
   "id": "3f875b7c-3942-49b6-b21e-5eca7497e357",
   "metadata": {},
   "outputs": [
    {
     "ename": "ValueError",
     "evalue": "invalid literal for int() with base 10: 'wgjwiogh'",
     "output_type": "error",
     "traceback": [
      "\u001b[31m---------------------------------------------------------------------------\u001b[39m",
      "\u001b[31mValueError\u001b[39m                                Traceback (most recent call last)",
      "\u001b[36mCell\u001b[39m\u001b[36m \u001b[39m\u001b[32mIn[1]\u001b[39m\u001b[32m, line 2\u001b[39m\n\u001b[32m      1\u001b[39m name = \u001b[38;5;28minput\u001b[39m(\u001b[33m\"\u001b[39m\u001b[33mPlease input your name: \u001b[39m\u001b[33m\"\u001b[39m)\n\u001b[32m----> \u001b[39m\u001b[32m2\u001b[39m age = \u001b[38;5;28;43mint\u001b[39;49m\u001b[43m(\u001b[49m\u001b[38;5;28;43minput\u001b[39;49m\u001b[43m(\u001b[49m\u001b[33;43m\"\u001b[39;49m\u001b[33;43mPlease input your age: \u001b[39;49m\u001b[33;43m\"\u001b[39;49m\u001b[43m)\u001b[49m\u001b[43m)\u001b[49m\n\u001b[32m      3\u001b[39m colour = \u001b[38;5;28minput\u001b[39m(\u001b[33m\"\u001b[39m\u001b[33mPlease input your favourite colour: \u001b[39m\u001b[33m\"\u001b[39m)\n\u001b[32m      4\u001b[39m \u001b[38;5;28mprint\u001b[39m(\u001b[33m\"\u001b[39m\u001b[33m \u001b[39m\u001b[33m\"\u001b[39m)\n",
      "\u001b[31mValueError\u001b[39m: invalid literal for int() with base 10: 'wgjwiogh'"
     ]
    }
   ],
   "source": [
    "name = input(\"Please input your name: \")\n",
    "age = int(input(\"Please input your age: \"))\n",
    "colour = input(\"Please input your favourite colour: \")\n",
    "print(\" \")\n",
    "print(\"{}/n {}/n {}/n\".format(name,age,colour))"
   ]
  },
  {
   "cell_type": "code",
   "execution_count": null,
   "id": "105de16c-94ce-4f4f-be9c-244e8948a1ee",
   "metadata": {},
   "outputs": [
    {
     "name": "stdout",
     "output_type": "stream",
     "text": [
      " \n",
      "wen/n 17/n black/n\n"
     ]
    }
   ],
   "source": [
    "name = input(\"Please input your name: \")\n",
    "age = int(input(\"Please input your age: \"))\n",
    "colour = input(\"Please input your favourite colour: \")\n",
    "print(\" \")\n",
    "print(\"{}/n {}/n {}/n\".format(name,age,colour))"
   ]
  },
  {
   "cell_type": "code",
   "execution_count": null,
   "id": "733b94f3-9e67-4e15-a706-7cffdc1aa8be",
   "metadata": {},
   "outputs": [
    {
     "name": "stdout",
     "output_type": "stream",
     "text": [
      " \n",
      "wen\n",
      " 17\n",
      " black\n",
      "\n"
     ]
    }
   ],
   "source": [
    "name = input(\"Please input your name: \")\n",
    "age = int(input(\"Please input your age: \"))\n",
    "colour = input(\"Please input your favourite colour: \")\n",
    "print(\" \")\n",
    "print(\"{}\\n {}\\n {}\\n\".format(name,age,colour))"
   ]
  },
  {
   "cell_type": "code",
   "execution_count": null,
   "id": "a941590e-af75-4c7e-b841-0b269d0db118",
   "metadata": {},
   "outputs": [
    {
     "ename": "TypeError",
     "evalue": "can't multiply sequence by non-int of type 'str'",
     "output_type": "error",
     "traceback": [
      "\u001b[31m---------------------------------------------------------------------------\u001b[39m",
      "\u001b[31mTypeError\u001b[39m                                 Traceback (most recent call last)",
      "\u001b[36mCell\u001b[39m\u001b[36m \u001b[39m\u001b[32mIn[4]\u001b[39m\u001b[32m, line 1\u001b[39m\n\u001b[32m----> \u001b[39m\u001b[32m1\u001b[39m \u001b[38;5;28mprint\u001b[39m(\u001b[33;43m\"\u001b[39;49m\u001b[33;43m3\u001b[39;49m\u001b[33;43m\"\u001b[39;49m\u001b[43m*\u001b[49m\u001b[33;43m\"\u001b[39;49m\u001b[33;43m3\u001b[39;49m\u001b[33;43m\"\u001b[39;49m)\n",
      "\u001b[31mTypeError\u001b[39m: can't multiply sequence by non-int of type 'str'"
     ]
    }
   ],
   "source": [
    "print(\"3\"*\"3\")"
   ]
  },
  {
   "cell_type": "code",
   "execution_count": null,
   "id": "1b709a31-b2bf-4b87-9358-4b011ec5329a",
   "metadata": {},
   "outputs": [
    {
     "ename": "ValueError",
     "evalue": "invalid literal for int() with base 10: ''",
     "output_type": "error",
     "traceback": [
      "\u001b[31m---------------------------------------------------------------------------\u001b[39m",
      "\u001b[31mValueError\u001b[39m                                Traceback (most recent call last)",
      "\u001b[36mCell\u001b[39m\u001b[36m \u001b[39m\u001b[32mIn[5]\u001b[39m\u001b[32m, line 1\u001b[39m\n\u001b[32m----> \u001b[39m\u001b[32m1\u001b[39m \u001b[38;5;28mprint\u001b[39m(\u001b[33m\"\u001b[39m\u001b[33mThe user\u001b[39m\u001b[33m'\u001b[39m\u001b[33ms age give years from now is: \u001b[39m\u001b[38;5;132;01m{}\u001b[39;00m\u001b[33m\"\u001b[39m.format(\u001b[38;5;28;43mint\u001b[39;49m\u001b[43m(\u001b[49m\u001b[38;5;28;43minput\u001b[39;49m\u001b[43m(\u001b[49m\u001b[33;43m\"\u001b[39;49m\u001b[33;43mPlease enter your age: \u001b[39;49m\u001b[33;43m\"\u001b[39;49m\u001b[43m)\u001b[49m\u001b[43m)\u001b[49m+\u001b[32m5\u001b[39m))\n",
      "\u001b[31mValueError\u001b[39m: invalid literal for int() with base 10: ''"
     ]
    }
   ],
   "source": [
    "print(\"The user's age give years from now is: {}\".format(int(input(\"Please enter your age: \"))+5))"
   ]
  },
  {
   "cell_type": "code",
   "execution_count": null,
   "id": "eb57d86c-b9d9-443b-83e3-e6eb275d4657",
   "metadata": {},
   "outputs": [
    {
     "name": "stdout",
     "output_type": "stream",
     "text": [
      "The user's age give years from now is: 20\n"
     ]
    }
   ],
   "source": [
    "print(\"The user's age give years from now is: {}\".format(int(input(\"Please enter your age: \"))+5))"
   ]
  },
  {
   "cell_type": "code",
   "execution_count": null,
   "id": "e1fbe812-acb9-44b8-9ce4-cbab2c6740a5",
   "metadata": {},
   "outputs": [
    {
     "name": "stdout",
     "output_type": "stream",
     "text": [
      "Guido's orb: ruby\n",
      "Rosum's orb: sapphire\n",
      "Guido's orb: ruby\n",
      "Rosum's orb: ruby\n"
     ]
    }
   ],
   "source": [
    "guidos_orb, rosums_orb = \"ruby\", \"sapphire\"\n",
    "print(\"Guido's orb: {}\\nRosum's orb: {}\".format(guidos_orb, rosums_orb))\n",
    "rosums_orb, guido_orb = guidos_orb, rosums_orb\n",
    "print(\"Guido's orb: {}\\nRosum's orb: {}\".format(guidos_orb, rosums_orb))"
   ]
  },
  {
   "cell_type": "code",
   "execution_count": null,
   "id": "01d6e8fc-9745-48f0-82d0-6db45d377d12",
   "metadata": {},
   "outputs": [
    {
     "name": "stdout",
     "output_type": "stream",
     "text": [
      "The temperature in Celsius is: 9.44\n"
     ]
    }
   ],
   "source": [
    "print(\"The temperature in Celsius is: {:.2f}\".format((float(input(\"Enter the temperature in Fahrenheit: \"))-32)*(5/9)))"
   ]
  },
  {
   "cell_type": "code",
   "execution_count": null,
   "id": "70051d60-f34e-4a16-b859-7928763150dc",
   "metadata": {},
   "outputs": [
    {
     "name": "stdout",
     "output_type": "stream",
     "text": [
      "The temperature in Celsius is: -10.44\n"
     ]
    }
   ],
   "source": [
    "print(\"The temperature in Celsius is: {:.2f}\".format((float(input(\"Enter the temperature in Fahrenheit: \"))-32)*(5/9)))"
   ]
  },
  {
   "cell_type": "code",
   "execution_count": null,
   "id": "262728b7-3c6a-4adb-aa6b-f94f5321e194",
   "metadata": {},
   "outputs": [
    {
     "name": "stdout",
     "output_type": "stream",
     "text": [
      "Hello, wen!\n"
     ]
    }
   ],
   "source": [
    "language, name = input(\"Please enter your preferred language: \").lower(), input(\"Please enter your name: \")\n",
    "lan = {\n",
    "    \"english\" : \"Hello\",\n",
    "    \"italian\" : \"Ciao\",\n",
    "    \"spanish\" : \"Hola\"\n",
    "}\n",
    "\n",
    "print(\"{}, {}!\".format(lan[language], name))"
   ]
  },
  {
   "cell_type": "code",
   "execution_count": null,
   "id": "c7c22c4f-3d0e-4f17-b672-40fb97aea7ca",
   "metadata": {},
   "outputs": [
    {
     "ename": "TypeError",
     "evalue": "'<' not supported between instances of 'str' and 'int'",
     "output_type": "error",
     "traceback": [
      "\u001b[31m---------------------------------------------------------------------------\u001b[39m",
      "\u001b[31mTypeError\u001b[39m                                 Traceback (most recent call last)",
      "\u001b[36mCell\u001b[39m\u001b[36m \u001b[39m\u001b[32mIn[11]\u001b[39m\u001b[32m, line 13\u001b[39m\n\u001b[32m      6\u001b[39m dict2 = {\n\u001b[32m      7\u001b[39m     \u001b[32m5\u001b[39m : \u001b[33m\"\u001b[39m\u001b[33mGood morning!\u001b[39m\u001b[33m\"\u001b[39m,\n\u001b[32m      8\u001b[39m     \u001b[32m12\u001b[39m: \u001b[33m\"\u001b[39m\u001b[33mGood day!\u001b[39m\u001b[33m\"\u001b[39m,\n\u001b[32m      9\u001b[39m     \u001b[32m13\u001b[39m: \u001b[33m\"\u001b[39m\u001b[33mGood afternoon!\u001b[39m\u001b[33m\"\u001b[39m,\n\u001b[32m     10\u001b[39m     \u001b[32m17\u001b[39m: \u001b[33m\"\u001b[39m\u001b[33mGood night!\u001b[39m\u001b[33m\"\u001b[39m\n\u001b[32m     11\u001b[39m }\n\u001b[32m     12\u001b[39m \u001b[38;5;28;01mfor\u001b[39;00m i \u001b[38;5;129;01min\u001b[39;00m dictime:\n\u001b[32m---> \u001b[39m\u001b[32m13\u001b[39m     \u001b[38;5;28;01mif\u001b[39;00m (\u001b[43mtime\u001b[49m\u001b[43m \u001b[49m\u001b[43m<\u001b[49m\u001b[43m \u001b[49m\u001b[43mi\u001b[49m\u001b[43m+\u001b[49m\u001b[32;43m1\u001b[39;49m) \u001b[38;5;129;01mand\u001b[39;00m (time > i):\n\u001b[32m     14\u001b[39m         \u001b[38;5;28mprint\u001b[39m(\u001b[33m\"\u001b[39m\u001b[38;5;132;01m{}\u001b[39;00m\u001b[33m, \u001b[39m\u001b[38;5;132;01m{}\u001b[39;00m\u001b[33m!\u001b[39m\u001b[33m\"\u001b[39m.format(dict2[i],name))\n",
      "\u001b[31mTypeError\u001b[39m: '<' not supported between instances of 'str' and 'int'"
     ]
    }
   ],
   "source": [
    "name, time = input(\"Please enter your name: \"), input(\"Please enter your time: \")\n",
    "if time[-2:] == \"pm\":\n",
    "    time = float(time[:-2])+12\n",
    "    \n",
    "dictime = [5, 12, 13, 17, 21]\n",
    "dict2 = {\n",
    "    5 : \"Good morning!\",\n",
    "    12: \"Good day!\",\n",
    "    13: \"Good afternoon!\",\n",
    "    17: \"Good night!\"\n",
    "}\n",
    "for i in dictime:\n",
    "    if (time < i+1) and (time > i):\n",
    "        print(\"{}, {}!\".format(dict2[i],name))"
   ]
  },
  {
   "cell_type": "code",
   "execution_count": null,
   "id": "4db35981-2e45-421d-b78f-580d3c499c1b",
   "metadata": {},
   "outputs": [],
   "source": [
    "name, time = input(\"Please enter your name: \"), input(\"Please enter your time: \")\n",
    "if time[-2:] == \"pm\":\n",
    "    time = float(time[:-2])+12\n",
    "elif time[-2:] == \"am\":\n",
    "    time = float(time[:-2])\n",
    "else:\n",
    "    time = float(time)\n",
    "    \n",
    "dictime = [5, 12, 13, 17, 21]\n",
    "dict2 = {\n",
    "    5 : \"Good morning!\",\n",
    "    12: \"Good day!\",\n",
    "    13: \"Good afternoon!\",\n",
    "    17: \"Good night!\"\n",
    "}\n",
    "for i in dictime:\n",
    "    if (time < i+1) and (time > i):\n",
    "        print(\"{}, {}!\".format(dict2[i],name))"
   ]
  },
  {
   "cell_type": "code",
   "execution_count": null,
   "id": "15673522-b0e9-4a5e-8c07-f0382190f844",
   "metadata": {},
   "outputs": [
    {
     "ename": "ValueError",
     "evalue": "could not convert string to float: ''",
     "output_type": "error",
     "traceback": [
      "\u001b[31m---------------------------------------------------------------------------\u001b[39m",
      "\u001b[31mValueError\u001b[39m                                Traceback (most recent call last)",
      "\u001b[36mCell\u001b[39m\u001b[36m \u001b[39m\u001b[32mIn[13]\u001b[39m\u001b[32m, line 7\u001b[39m\n\u001b[32m      5\u001b[39m     time = \u001b[38;5;28mfloat\u001b[39m(time[:-\u001b[32m2\u001b[39m])\n\u001b[32m      6\u001b[39m \u001b[38;5;28;01melse\u001b[39;00m:\n\u001b[32m----> \u001b[39m\u001b[32m7\u001b[39m     time = \u001b[38;5;28;43mfloat\u001b[39;49m\u001b[43m(\u001b[49m\u001b[43mtime\u001b[49m\u001b[43m)\u001b[49m\n\u001b[32m      9\u001b[39m dictime = [\u001b[32m5\u001b[39m, \u001b[32m12\u001b[39m, \u001b[32m13\u001b[39m, \u001b[32m17\u001b[39m, \u001b[32m21\u001b[39m]\n\u001b[32m     10\u001b[39m dict2 = {\n\u001b[32m     11\u001b[39m     \u001b[32m5\u001b[39m : \u001b[33m\"\u001b[39m\u001b[33mGood morning!\u001b[39m\u001b[33m\"\u001b[39m,\n\u001b[32m     12\u001b[39m     \u001b[32m12\u001b[39m: \u001b[33m\"\u001b[39m\u001b[33mGood day!\u001b[39m\u001b[33m\"\u001b[39m,\n\u001b[32m     13\u001b[39m     \u001b[32m13\u001b[39m: \u001b[33m\"\u001b[39m\u001b[33mGood afternoon!\u001b[39m\u001b[33m\"\u001b[39m,\n\u001b[32m     14\u001b[39m     \u001b[32m17\u001b[39m: \u001b[33m\"\u001b[39m\u001b[33mGood night!\u001b[39m\u001b[33m\"\u001b[39m\n\u001b[32m     15\u001b[39m }\n",
      "\u001b[31mValueError\u001b[39m: could not convert string to float: ''"
     ]
    }
   ],
   "source": [
    "name, time = input(\"Please enter your name: \"), input(\"Please enter your time: \")\n",
    "if time[-2:] == \"pm\":\n",
    "    time = float(time[:-2])+12\n",
    "elif time[-2:] == \"am\":\n",
    "    time = float(time[:-2])\n",
    "else:\n",
    "    time = float(time)\n",
    "    \n",
    "dictime = [5, 12, 13, 17, 21]\n",
    "dict2 = {\n",
    "    5 : \"Good morning!\",\n",
    "    12: \"Good day!\",\n",
    "    13: \"Good afternoon!\",\n",
    "    17: \"Good night!\"\n",
    "}\n",
    "for i in dictime:\n",
    "    if (time < i+1) and (time > i):\n",
    "        print(\"{}, {}!\".format(dict2[i],name))"
   ]
  },
  {
   "cell_type": "code",
   "execution_count": null,
   "id": "4ba2df29-7a46-441d-9cef-0c12efc92a28",
   "metadata": {},
   "outputs": [
    {
     "ename": "ValueError",
     "evalue": "could not convert string to float: '11:59'",
     "output_type": "error",
     "traceback": [
      "\u001b[31m---------------------------------------------------------------------------\u001b[39m",
      "\u001b[31mValueError\u001b[39m                                Traceback (most recent call last)",
      "\u001b[36mCell\u001b[39m\u001b[36m \u001b[39m\u001b[32mIn[14]\u001b[39m\u001b[32m, line 12\u001b[39m\n\u001b[32m     10\u001b[39m     time = \u001b[38;5;28mfloat\u001b[39m(time[:-\u001b[32m2\u001b[39m])+\u001b[32m12\u001b[39m\n\u001b[32m     11\u001b[39m \u001b[38;5;28;01melif\u001b[39;00m time[-\u001b[32m2\u001b[39m:] == \u001b[33m\"\u001b[39m\u001b[33mam\u001b[39m\u001b[33m\"\u001b[39m:\n\u001b[32m---> \u001b[39m\u001b[32m12\u001b[39m     time = \u001b[38;5;28;43mfloat\u001b[39;49m\u001b[43m(\u001b[49m\u001b[43mtime\u001b[49m\u001b[43m[\u001b[49m\u001b[43m:\u001b[49m\u001b[43m-\u001b[49m\u001b[32;43m2\u001b[39;49m\u001b[43m]\u001b[49m\u001b[43m)\u001b[49m\n\u001b[32m     13\u001b[39m \u001b[38;5;28;01melse\u001b[39;00m:\n\u001b[32m     14\u001b[39m     time = \u001b[38;5;28mfloat\u001b[39m(time)\n",
      "\u001b[31mValueError\u001b[39m: could not convert string to float: '11:59'"
     ]
    }
   ],
   "source": [
    "name, time = input(\"Please enter your name: \"), input(\"Please enter your time: \")\n",
    "\n",
    "time = time.split()\n",
    "for i in time:\n",
    "    if i == \":\":\n",
    "        time.replace(\":\", \".\")\n",
    "time = ''.join(time)\n",
    "\n",
    "if time[-2:] == \"pm\":\n",
    "    time = float(time[:-2])+12\n",
    "elif time[-2:] == \"am\":\n",
    "    time = float(time[:-2])\n",
    "else:\n",
    "    time = float(time)\n",
    "    \n",
    "dictime = [5, 12, 13, 17, 21]\n",
    "dict2 = {\n",
    "    5 : \"Good morning!\",\n",
    "    12: \"Good day!\",\n",
    "    13: \"Good afternoon!\",\n",
    "    17: \"Good night!\"\n",
    "}\n",
    "for i in dictime:\n",
    "    if (time < i+1) and (time > i):\n",
    "        print(\"{}, {}!\".format(dict2[i],name))"
   ]
  },
  {
   "cell_type": "code",
   "execution_count": null,
   "id": "fce2b135-eb71-4015-8dd5-84abcc0e61d3",
   "metadata": {},
   "outputs": [
    {
     "ename": "ValueError",
     "evalue": "could not convert string to float: '11:59'",
     "output_type": "error",
     "traceback": [
      "\u001b[31m---------------------------------------------------------------------------\u001b[39m",
      "\u001b[31mValueError\u001b[39m                                Traceback (most recent call last)",
      "\u001b[36mCell\u001b[39m\u001b[36m \u001b[39m\u001b[32mIn[15]\u001b[39m\u001b[32m, line 13\u001b[39m\n\u001b[32m     11\u001b[39m     time = \u001b[38;5;28mfloat\u001b[39m(time[:-\u001b[32m2\u001b[39m])+\u001b[32m12\u001b[39m\n\u001b[32m     12\u001b[39m \u001b[38;5;28;01melif\u001b[39;00m time[-\u001b[32m2\u001b[39m:] == \u001b[33m\"\u001b[39m\u001b[33mam\u001b[39m\u001b[33m\"\u001b[39m:\n\u001b[32m---> \u001b[39m\u001b[32m13\u001b[39m     time = \u001b[38;5;28;43mfloat\u001b[39;49m\u001b[43m(\u001b[49m\u001b[43mtime\u001b[49m\u001b[43m[\u001b[49m\u001b[43m:\u001b[49m\u001b[43m-\u001b[49m\u001b[32;43m2\u001b[39;49m\u001b[43m]\u001b[49m\u001b[43m)\u001b[49m\n\u001b[32m     14\u001b[39m \u001b[38;5;28;01melse\u001b[39;00m:\n\u001b[32m     15\u001b[39m     time = \u001b[38;5;28mfloat\u001b[39m(time)\n",
      "\u001b[31mValueError\u001b[39m: could not convert string to float: '11:59'"
     ]
    }
   ],
   "source": [
    "name, time = input(\"Please enter your name: \"), input(\"Please enter your time: \")\n",
    "\n",
    "time = time.split()\n",
    "for i in time:\n",
    "    if i == \":\":\n",
    "        print(\"hit\")\n",
    "        time.replace(\":\", \".\")\n",
    "time = ''.join(time)\n",
    "\n",
    "if time[-2:] == \"pm\":\n",
    "    time = float(time[:-2])+12\n",
    "elif time[-2:] == \"am\":\n",
    "    time = float(time[:-2])\n",
    "else:\n",
    "    time = float(time)\n",
    "    \n",
    "dictime = [5, 12, 13, 17, 21]\n",
    "dict2 = {\n",
    "    5 : \"Good morning!\",\n",
    "    12: \"Good day!\",\n",
    "    13: \"Good afternoon!\",\n",
    "    17: \"Good night!\"\n",
    "}\n",
    "for i in dictime:\n",
    "    if (time < i+1) and (time > i):\n",
    "        print(\"{}, {}!\".format(dict2[i],name))"
   ]
  },
  {
   "cell_type": "code",
   "execution_count": null,
   "id": "6f120a81-773f-42f4-b16b-6fa846e53968",
   "metadata": {},
   "outputs": [
    {
     "name": "stdout",
     "output_type": "stream",
     "text": [
      "['11Q:59am']\n"
     ]
    },
    {
     "ename": "ValueError",
     "evalue": "could not convert string to float: '11Q:59'",
     "output_type": "error",
     "traceback": [
      "\u001b[31m---------------------------------------------------------------------------\u001b[39m",
      "\u001b[31mValueError\u001b[39m                                Traceback (most recent call last)",
      "\u001b[36mCell\u001b[39m\u001b[36m \u001b[39m\u001b[32mIn[16]\u001b[39m\u001b[32m, line 14\u001b[39m\n\u001b[32m     12\u001b[39m     time = \u001b[38;5;28mfloat\u001b[39m(time[:-\u001b[32m2\u001b[39m])+\u001b[32m12\u001b[39m\n\u001b[32m     13\u001b[39m \u001b[38;5;28;01melif\u001b[39;00m time[-\u001b[32m2\u001b[39m:] == \u001b[33m\"\u001b[39m\u001b[33mam\u001b[39m\u001b[33m\"\u001b[39m:\n\u001b[32m---> \u001b[39m\u001b[32m14\u001b[39m     time = \u001b[38;5;28;43mfloat\u001b[39;49m\u001b[43m(\u001b[49m\u001b[43mtime\u001b[49m\u001b[43m[\u001b[49m\u001b[43m:\u001b[49m\u001b[43m-\u001b[49m\u001b[32;43m2\u001b[39;49m\u001b[43m]\u001b[49m\u001b[43m)\u001b[49m\n\u001b[32m     15\u001b[39m \u001b[38;5;28;01melse\u001b[39;00m:\n\u001b[32m     16\u001b[39m     time = \u001b[38;5;28mfloat\u001b[39m(time)\n",
      "\u001b[31mValueError\u001b[39m: could not convert string to float: '11Q:59'"
     ]
    }
   ],
   "source": [
    "name, time = input(\"Please enter your name: \"), input(\"Please enter your time: \")\n",
    "\n",
    "time = time.split()\n",
    "for i in time:\n",
    "    print(time)\n",
    "    if i == \":\":\n",
    "        print(\"hit\")\n",
    "        time.replace(\":\", \".\")\n",
    "time = ''.join(time)\n",
    "\n",
    "if time[-2:] == \"pm\":\n",
    "    time = float(time[:-2])+12\n",
    "elif time[-2:] == \"am\":\n",
    "    time = float(time[:-2])\n",
    "else:\n",
    "    time = float(time)\n",
    "    \n",
    "dictime = [5, 12, 13, 17, 21]\n",
    "dict2 = {\n",
    "    5 : \"Good morning!\",\n",
    "    12: \"Good day!\",\n",
    "    13: \"Good afternoon!\",\n",
    "    17: \"Good night!\"\n",
    "}\n",
    "for i in dictime:\n",
    "    if (time < i+1) and (time > i):\n",
    "        print(\"{}, {}!\".format(dict2[i],name))"
   ]
  },
  {
   "cell_type": "code",
   "execution_count": null,
   "id": "4dcf1fa7-aa10-446c-9c40-9a7190baac11",
   "metadata": {},
   "outputs": [
    {
     "name": "stdout",
     "output_type": "stream",
     "text": [
      "['11:59am']\n"
     ]
    },
    {
     "ename": "ValueError",
     "evalue": "could not convert string to float: '11:59'",
     "output_type": "error",
     "traceback": [
      "\u001b[31m---------------------------------------------------------------------------\u001b[39m",
      "\u001b[31mValueError\u001b[39m                                Traceback (most recent call last)",
      "\u001b[36mCell\u001b[39m\u001b[36m \u001b[39m\u001b[32mIn[17]\u001b[39m\u001b[32m, line 14\u001b[39m\n\u001b[32m     12\u001b[39m     time = \u001b[38;5;28mfloat\u001b[39m(time[:-\u001b[32m2\u001b[39m])+\u001b[32m12\u001b[39m\n\u001b[32m     13\u001b[39m \u001b[38;5;28;01melif\u001b[39;00m time[-\u001b[32m2\u001b[39m:] == \u001b[33m\"\u001b[39m\u001b[33mam\u001b[39m\u001b[33m\"\u001b[39m:\n\u001b[32m---> \u001b[39m\u001b[32m14\u001b[39m     time = \u001b[38;5;28;43mfloat\u001b[39;49m\u001b[43m(\u001b[49m\u001b[43mtime\u001b[49m\u001b[43m[\u001b[49m\u001b[43m:\u001b[49m\u001b[43m-\u001b[49m\u001b[32;43m2\u001b[39;49m\u001b[43m]\u001b[49m\u001b[43m)\u001b[49m\n\u001b[32m     15\u001b[39m \u001b[38;5;28;01melse\u001b[39;00m:\n\u001b[32m     16\u001b[39m     time = \u001b[38;5;28mfloat\u001b[39m(time)\n",
      "\u001b[31mValueError\u001b[39m: could not convert string to float: '11:59'"
     ]
    }
   ],
   "source": [
    "name, time = input(\"Please enter your name: \"), input(\"Please enter your time: \")\n",
    "\n",
    "time = time.split()\n",
    "for i in time:\n",
    "    print(time)\n",
    "    if i == \":\":\n",
    "        print(\"hit\")\n",
    "        time.replace(\":\", \".\")\n",
    "time = ''.join(time)\n",
    "\n",
    "if time[-2:] == \"pm\":\n",
    "    time = float(time[:-2])+12\n",
    "elif time[-2:] == \"am\":\n",
    "    time = float(time[:-2])\n",
    "else:\n",
    "    time = float(time)\n",
    "    \n",
    "dictime = [5, 12, 13, 17, 21]\n",
    "dict2 = {\n",
    "    5 : \"Good morning!\",\n",
    "    12: \"Good day!\",\n",
    "    13: \"Good afternoon!\",\n",
    "    17: \"Good night!\"\n",
    "}\n",
    "for i in dictime:\n",
    "    if (time < i+1) and (time > i):\n",
    "        print(\"{}, {}!\".format(dict2[i],name))"
   ]
  },
  {
   "cell_type": "code",
   "execution_count": null,
   "id": "43817aa2-795b-4594-bd24-cecaacb29048",
   "metadata": {},
   "outputs": [
    {
     "ename": "ValueError",
     "evalue": "empty separator",
     "output_type": "error",
     "traceback": [
      "\u001b[31m---------------------------------------------------------------------------\u001b[39m",
      "\u001b[31mValueError\u001b[39m                                Traceback (most recent call last)",
      "\u001b[36mCell\u001b[39m\u001b[36m \u001b[39m\u001b[32mIn[18]\u001b[39m\u001b[32m, line 3\u001b[39m\n\u001b[32m      1\u001b[39m name, time = \u001b[38;5;28minput\u001b[39m(\u001b[33m\"\u001b[39m\u001b[33mPlease enter your name: \u001b[39m\u001b[33m\"\u001b[39m), \u001b[38;5;28minput\u001b[39m(\u001b[33m\"\u001b[39m\u001b[33mPlease enter your time: \u001b[39m\u001b[33m\"\u001b[39m)\n\u001b[32m----> \u001b[39m\u001b[32m3\u001b[39m time = \u001b[43mtime\u001b[49m\u001b[43m.\u001b[49m\u001b[43msplit\u001b[49m\u001b[43m(\u001b[49m\u001b[33;43m\"\u001b[39;49m\u001b[33;43m\"\u001b[39;49m\u001b[43m)\u001b[49m\n\u001b[32m      4\u001b[39m \u001b[38;5;28;01mfor\u001b[39;00m i \u001b[38;5;129;01min\u001b[39;00m time:\n\u001b[32m      5\u001b[39m     \u001b[38;5;28mprint\u001b[39m(time)\n",
      "\u001b[31mValueError\u001b[39m: empty separator"
     ]
    }
   ],
   "source": [
    "name, time = input(\"Please enter your name: \"), input(\"Please enter your time: \")\n",
    "\n",
    "time = time.split(\"\")\n",
    "for i in time:\n",
    "    print(time)\n",
    "    if i == \":\":\n",
    "        print(\"hit\")\n",
    "        time.replace(\":\", \".\")\n",
    "time = ''.join(time)\n",
    "\n",
    "if time[-2:] == \"pm\":\n",
    "    time = float(time[:-2])+12\n",
    "elif time[-2:] == \"am\":\n",
    "    time = float(time[:-2])\n",
    "else:\n",
    "    time = float(time)\n",
    "    \n",
    "dictime = [5, 12, 13, 17, 21]\n",
    "dict2 = {\n",
    "    5 : \"Good morning!\",\n",
    "    12: \"Good day!\",\n",
    "    13: \"Good afternoon!\",\n",
    "    17: \"Good night!\"\n",
    "}\n",
    "for i in dictime:\n",
    "    if (time < i+1) and (time > i):\n",
    "        print(\"{}, {}!\".format(dict2[i],name))"
   ]
  },
  {
   "cell_type": "code",
   "execution_count": null,
   "id": "c8cd0667-d6dc-4b9a-9e02-61486bbc4524",
   "metadata": {},
   "outputs": [
    {
     "name": "stdout",
     "output_type": "stream",
     "text": [
      "hit\n"
     ]
    },
    {
     "ename": "AttributeError",
     "evalue": "'list' object has no attribute 'replace'",
     "output_type": "error",
     "traceback": [
      "\u001b[31m---------------------------------------------------------------------------\u001b[39m",
      "\u001b[31mAttributeError\u001b[39m                            Traceback (most recent call last)",
      "\u001b[36mCell\u001b[39m\u001b[36m \u001b[39m\u001b[32mIn[19]\u001b[39m\u001b[32m, line 7\u001b[39m\n\u001b[32m      5\u001b[39m     \u001b[38;5;28;01mif\u001b[39;00m i == \u001b[33m\"\u001b[39m\u001b[33m:\u001b[39m\u001b[33m\"\u001b[39m:\n\u001b[32m      6\u001b[39m         \u001b[38;5;28mprint\u001b[39m(\u001b[33m\"\u001b[39m\u001b[33mhit\u001b[39m\u001b[33m\"\u001b[39m)\n\u001b[32m----> \u001b[39m\u001b[32m7\u001b[39m         \u001b[43mholder\u001b[49m\u001b[43m.\u001b[49m\u001b[43mreplace\u001b[49m(\u001b[33m\"\u001b[39m\u001b[33m:\u001b[39m\u001b[33m\"\u001b[39m, \u001b[33m\"\u001b[39m\u001b[33m.\u001b[39m\u001b[33m\"\u001b[39m)\n\u001b[32m      8\u001b[39m time = \u001b[33m'\u001b[39m\u001b[33m'\u001b[39m.join(holder)\n\u001b[32m     10\u001b[39m \u001b[38;5;28;01mif\u001b[39;00m time[-\u001b[32m2\u001b[39m:] == \u001b[33m\"\u001b[39m\u001b[33mpm\u001b[39m\u001b[33m\"\u001b[39m:\n",
      "\u001b[31mAttributeError\u001b[39m: 'list' object has no attribute 'replace'"
     ]
    }
   ],
   "source": [
    "name, time = input(\"Please enter your name: \"), input(\"Please enter your time: \")\n",
    "holder = []\n",
    "for i in time:\n",
    "    holder.append(i)\n",
    "    if i == \":\":\n",
    "        print(\"hit\")\n",
    "        holder.replace(\":\", \".\")\n",
    "time = ''.join(holder)\n",
    "\n",
    "if time[-2:] == \"pm\":\n",
    "    time = float(time[:-2])+12\n",
    "elif time[-2:] == \"am\":\n",
    "    time = float(time[:-2])\n",
    "else:\n",
    "    time = float(time)\n",
    "    \n",
    "dictime = [5, 12, 13, 17, 21]\n",
    "dict2 = {\n",
    "    5 : \"Good morning!\",\n",
    "    12: \"Good day!\",\n",
    "    13: \"Good afternoon!\",\n",
    "    17: \"Good night!\"\n",
    "}\n",
    "for i in dictime:\n",
    "    if (time < i+1) and (time > i):\n",
    "        print(\"{}, {}!\".format(dict2[i],name))"
   ]
  },
  {
   "cell_type": "code",
   "execution_count": null,
   "id": "ea35e92c-85d8-4ab2-a13c-960cc1d2e84d",
   "metadata": {},
   "outputs": [
    {
     "ename": "TypeError",
     "evalue": "sequence item 0: expected str instance, int found",
     "output_type": "error",
     "traceback": [
      "\u001b[31m---------------------------------------------------------------------------\u001b[39m",
      "\u001b[31mTypeError\u001b[39m                                 Traceback (most recent call last)",
      "\u001b[36mCell\u001b[39m\u001b[36m \u001b[39m\u001b[32mIn[20]\u001b[39m\u001b[32m, line 9\u001b[39m\n\u001b[32m      7\u001b[39m         holder.pop(index)\n\u001b[32m      8\u001b[39m         holder.append(\u001b[33m\"\u001b[39m\u001b[33m.\u001b[39m\u001b[33m\"\u001b[39m)\n\u001b[32m----> \u001b[39m\u001b[32m9\u001b[39m time = \u001b[33;43m'\u001b[39;49m\u001b[33;43m'\u001b[39;49m\u001b[43m.\u001b[49m\u001b[43mjoin\u001b[49m\u001b[43m(\u001b[49m\u001b[43mholder\u001b[49m\u001b[43m)\u001b[49m\n\u001b[32m     11\u001b[39m \u001b[38;5;28;01mif\u001b[39;00m time[-\u001b[32m2\u001b[39m:] == \u001b[33m\"\u001b[39m\u001b[33mpm\u001b[39m\u001b[33m\"\u001b[39m:\n\u001b[32m     12\u001b[39m     time = \u001b[38;5;28mfloat\u001b[39m(time[:-\u001b[32m2\u001b[39m])+\u001b[32m12\u001b[39m\n",
      "\u001b[31mTypeError\u001b[39m: sequence item 0: expected str instance, int found"
     ]
    }
   ],
   "source": [
    "name, time = input(\"Please enter your name: \"), input(\"Please enter your time: \")\n",
    "holder = []\n",
    "for i, index in enumerate(time):\n",
    "    holder.append(i)\n",
    "    if i == \":\":\n",
    "        print(\"hit\")\n",
    "        holder.pop(index)\n",
    "        holder.append(\".\")\n",
    "time = ''.join(holder)\n",
    "\n",
    "if time[-2:] == \"pm\":\n",
    "    time = float(time[:-2])+12\n",
    "elif time[-2:] == \"am\":\n",
    "    time = float(time[:-2])\n",
    "else:\n",
    "    time = float(time)\n",
    "    \n",
    "dictime = [5, 12, 13, 17, 21]\n",
    "dict2 = {\n",
    "    5 : \"Good morning!\",\n",
    "    12: \"Good day!\",\n",
    "    13: \"Good afternoon!\",\n",
    "    17: \"Good night!\"\n",
    "}\n",
    "for i in dictime:\n",
    "    if (time < i+1) and (time > i):\n",
    "        print(\"{}, {}!\".format(dict2[i],name))"
   ]
  },
  {
   "cell_type": "code",
   "execution_count": null,
   "id": "3a82a335-0801-4cce-baa8-d56a990838f2",
   "metadata": {},
   "outputs": [
    {
     "name": "stdout",
     "output_type": "stream",
     "text": [
      "hit\n"
     ]
    }
   ],
   "source": [
    "name, time = input(\"Please enter your name: \"), input(\"Please enter your time: \")\n",
    "holder = []\n",
    "for index, i in enumerate(time):\n",
    "    holder.append(i)\n",
    "    if i == \":\":\n",
    "        print(\"hit\")\n",
    "        holder.pop(index)\n",
    "        holder.append(\".\")\n",
    "time = ''.join(holder)\n",
    "\n",
    "if time[-2:] == \"pm\":\n",
    "    time = float(time[:-2])+12\n",
    "elif time[-2:] == \"am\":\n",
    "    time = float(time[:-2])\n",
    "else:\n",
    "    time = float(time)\n",
    "    \n",
    "dictime = [5, 12, 13, 17, 21]\n",
    "dict2 = {\n",
    "    5 : \"Good morning!\",\n",
    "    12: \"Good day!\",\n",
    "    13: \"Good afternoon!\",\n",
    "    17: \"Good night!\"\n",
    "}\n",
    "for i in dictime:\n",
    "    if (time < i+1) and (time > i):\n",
    "        print(\"{}, {}!\".format(dict2[i],name))"
   ]
  },
  {
   "cell_type": "code",
   "execution_count": null,
   "id": "5a1f989e-c6c8-4b20-bee1-283651664cfc",
   "metadata": {},
   "outputs": [
    {
     "name": "stdout",
     "output_type": "stream",
     "text": [
      "hit\n"
     ]
    },
    {
     "ename": "IndexError",
     "evalue": "list index out of range",
     "output_type": "error",
     "traceback": [
      "\u001b[31m---------------------------------------------------------------------------\u001b[39m",
      "\u001b[31mIndexError\u001b[39m                                Traceback (most recent call last)",
      "\u001b[36mCell\u001b[39m\u001b[36m \u001b[39m\u001b[32mIn[22]\u001b[39m\u001b[32m, line 26\u001b[39m\n\u001b[32m     19\u001b[39m dict2 = {\n\u001b[32m     20\u001b[39m     \u001b[32m5\u001b[39m : \u001b[33m\"\u001b[39m\u001b[33mGood morning!\u001b[39m\u001b[33m\"\u001b[39m,\n\u001b[32m     21\u001b[39m     \u001b[32m12\u001b[39m: \u001b[33m\"\u001b[39m\u001b[33mGood day!\u001b[39m\u001b[33m\"\u001b[39m,\n\u001b[32m     22\u001b[39m     \u001b[32m13\u001b[39m: \u001b[33m\"\u001b[39m\u001b[33mGood afternoon!\u001b[39m\u001b[33m\"\u001b[39m,\n\u001b[32m     23\u001b[39m     \u001b[32m17\u001b[39m: \u001b[33m\"\u001b[39m\u001b[33mGood night!\u001b[39m\u001b[33m\"\u001b[39m\n\u001b[32m     24\u001b[39m }\n\u001b[32m     25\u001b[39m \u001b[38;5;28;01mfor\u001b[39;00m i \u001b[38;5;129;01min\u001b[39;00m dictime:\n\u001b[32m---> \u001b[39m\u001b[32m26\u001b[39m     \u001b[38;5;28;01mif\u001b[39;00m (time < \u001b[43mdictime\u001b[49m\u001b[43m[\u001b[49m\u001b[43mi\u001b[49m\u001b[43m+\u001b[49m\u001b[32;43m1\u001b[39;49m\u001b[43m]\u001b[49m) \u001b[38;5;129;01mand\u001b[39;00m (time > dictime[i]):\n\u001b[32m     27\u001b[39m         \u001b[38;5;28mprint\u001b[39m(\u001b[33m\"\u001b[39m\u001b[38;5;132;01m{}\u001b[39;00m\u001b[33m, \u001b[39m\u001b[38;5;132;01m{}\u001b[39;00m\u001b[33m!\u001b[39m\u001b[33m\"\u001b[39m.format(dict2[i],name))\n",
      "\u001b[31mIndexError\u001b[39m: list index out of range"
     ]
    }
   ],
   "source": [
    "name, time = input(\"Please enter your name: \"), input(\"Please enter your time: \")\n",
    "holder = []\n",
    "for index, i in enumerate(time):\n",
    "    holder.append(i)\n",
    "    if i == \":\":\n",
    "        print(\"hit\")\n",
    "        holder.pop(index)\n",
    "        holder.append(\".\")\n",
    "time = ''.join(holder)\n",
    "\n",
    "if time[-2:] == \"pm\":\n",
    "    time = float(time[:-2])+12\n",
    "elif time[-2:] == \"am\":\n",
    "    time = float(time[:-2])\n",
    "else:\n",
    "    time = float(time)\n",
    "    \n",
    "dictime = [5, 12, 13, 17, 21]\n",
    "dict2 = {\n",
    "    5 : \"Good morning!\",\n",
    "    12: \"Good day!\",\n",
    "    13: \"Good afternoon!\",\n",
    "    17: \"Good night!\"\n",
    "}\n",
    "for i in dictime:\n",
    "    if (time < dictime[i+1]) and (time > dictime[i]):\n",
    "        print(\"{}, {}!\".format(dict2[i],name))"
   ]
  },
  {
   "cell_type": "code",
   "execution_count": null,
   "id": "d08a03cf-e39b-4e7b-a570-2e3507ea16c4",
   "metadata": {},
   "outputs": [
    {
     "ename": "ValueError",
     "evalue": "could not convert string to float: ''",
     "output_type": "error",
     "traceback": [
      "\u001b[31m---------------------------------------------------------------------------\u001b[39m",
      "\u001b[31mValueError\u001b[39m                                Traceback (most recent call last)",
      "\u001b[36mCell\u001b[39m\u001b[36m \u001b[39m\u001b[32mIn[23]\u001b[39m\u001b[32m, line 16\u001b[39m\n\u001b[32m     14\u001b[39m     time = \u001b[38;5;28mfloat\u001b[39m(time[:-\u001b[32m2\u001b[39m])\n\u001b[32m     15\u001b[39m \u001b[38;5;28;01melse\u001b[39;00m:\n\u001b[32m---> \u001b[39m\u001b[32m16\u001b[39m     time = \u001b[38;5;28;43mfloat\u001b[39;49m\u001b[43m(\u001b[49m\u001b[43mtime\u001b[49m\u001b[43m)\u001b[49m\n\u001b[32m     18\u001b[39m dictime = [\u001b[32m5\u001b[39m, \u001b[32m12\u001b[39m, \u001b[32m13\u001b[39m, \u001b[32m17\u001b[39m, \u001b[32m21\u001b[39m]\n\u001b[32m     19\u001b[39m dict2 = {\n\u001b[32m     20\u001b[39m     \u001b[32m5\u001b[39m : \u001b[33m\"\u001b[39m\u001b[33mGood morning!\u001b[39m\u001b[33m\"\u001b[39m,\n\u001b[32m     21\u001b[39m     \u001b[32m12\u001b[39m: \u001b[33m\"\u001b[39m\u001b[33mGood day!\u001b[39m\u001b[33m\"\u001b[39m,\n\u001b[32m     22\u001b[39m     \u001b[32m13\u001b[39m: \u001b[33m\"\u001b[39m\u001b[33mGood afternoon!\u001b[39m\u001b[33m\"\u001b[39m,\n\u001b[32m     23\u001b[39m     \u001b[32m17\u001b[39m: \u001b[33m\"\u001b[39m\u001b[33mGood night!\u001b[39m\u001b[33m\"\u001b[39m\n\u001b[32m     24\u001b[39m }\n",
      "\u001b[31mValueError\u001b[39m: could not convert string to float: ''"
     ]
    }
   ],
   "source": [
    "name, time = input(\"Please enter your name: \"), input(\"Please enter your time: \")\n",
    "holder = []\n",
    "for index, i in enumerate(time):\n",
    "    holder.append(i)\n",
    "    if i == \":\":\n",
    "        print(\"hit\")\n",
    "        holder.pop(index)\n",
    "        holder.append(\".\")\n",
    "time = ''.join(holder)\n",
    "\n",
    "if time[-2:] == \"pm\":\n",
    "    time = float(time[:-2])+12\n",
    "elif time[-2:] == \"am\":\n",
    "    time = float(time[:-2])\n",
    "else:\n",
    "    time = float(time)\n",
    "    \n",
    "dictime = [5, 12, 13, 17, 21]\n",
    "dict2 = {\n",
    "    5 : \"Good morning!\",\n",
    "    12: \"Good day!\",\n",
    "    13: \"Good afternoon!\",\n",
    "    17: \"Good night!\"\n",
    "}\n",
    "for i in dictime:\n",
    "    if (time < dictime[i+1]) and (time > dictime[i]):\n",
    "        print(\"{}, {}!\".format(dict2[i],name))"
   ]
  },
  {
   "cell_type": "code",
   "execution_count": null,
   "id": "341c6afe-da31-401f-a482-b3e8309c490a",
   "metadata": {},
   "outputs": [
    {
     "name": "stdout",
     "output_type": "stream",
     "text": [
      "hit\n"
     ]
    },
    {
     "ename": "KeyError",
     "evalue": "'m'",
     "output_type": "error",
     "traceback": [
      "\u001b[31m---------------------------------------------------------------------------\u001b[39m",
      "\u001b[31mKeyError\u001b[39m                                  Traceback (most recent call last)",
      "\u001b[36mCell\u001b[39m\u001b[36m \u001b[39m\u001b[32mIn[24]\u001b[39m\u001b[32m, line 27\u001b[39m\n\u001b[32m     25\u001b[39m \u001b[38;5;28;01mfor\u001b[39;00m index, value \u001b[38;5;129;01min\u001b[39;00m \u001b[38;5;28menumerate\u001b[39m(dictime):\n\u001b[32m     26\u001b[39m     \u001b[38;5;28;01mif\u001b[39;00m (time < dictime[index+\u001b[32m1\u001b[39m]) \u001b[38;5;129;01mand\u001b[39;00m (time > value):\n\u001b[32m---> \u001b[39m\u001b[32m27\u001b[39m         \u001b[38;5;28mprint\u001b[39m(\u001b[33m\"\u001b[39m\u001b[38;5;132;01m{}\u001b[39;00m\u001b[33m, \u001b[39m\u001b[38;5;132;01m{}\u001b[39;00m\u001b[33m!\u001b[39m\u001b[33m\"\u001b[39m.format(\u001b[43mdict2\u001b[49m\u001b[43m[\u001b[49m\u001b[43mi\u001b[49m\u001b[43m]\u001b[49m,name))\n",
      "\u001b[31mKeyError\u001b[39m: 'm'"
     ]
    }
   ],
   "source": [
    "name, time = input(\"Please enter your name: \"), input(\"Please enter your time: \")\n",
    "holder = []\n",
    "for index, i in enumerate(time):\n",
    "    holder.append(i)\n",
    "    if i == \":\":\n",
    "        print(\"hit\")\n",
    "        holder.pop(index)\n",
    "        holder.append(\".\")\n",
    "time = ''.join(holder)\n",
    "\n",
    "if time[-2:] == \"pm\":\n",
    "    time = float(time[:-2])+12\n",
    "elif time[-2:] == \"am\":\n",
    "    time = float(time[:-2])\n",
    "else:\n",
    "    time = float(time)\n",
    "    \n",
    "dictime = [5, 12, 13, 17, 21]\n",
    "dict2 = {\n",
    "    5 : \"Good morning!\",\n",
    "    12: \"Good day!\",\n",
    "    13: \"Good afternoon!\",\n",
    "    17: \"Good night!\"\n",
    "}\n",
    "for index, value in enumerate(dictime):\n",
    "    if (time < dictime[index+1]) and (time > value):\n",
    "        print(\"{}, {}!\".format(dict2[i],name))"
   ]
  },
  {
   "cell_type": "code",
   "execution_count": null,
   "id": "e040ddd0-9bc6-4680-9aa8-dd78a8975836",
   "metadata": {},
   "outputs": [
    {
     "name": "stdout",
     "output_type": "stream",
     "text": [
      "hit\n",
      "Good morning!, wen!\n"
     ]
    },
    {
     "ename": "IndexError",
     "evalue": "list index out of range",
     "output_type": "error",
     "traceback": [
      "\u001b[31m---------------------------------------------------------------------------\u001b[39m",
      "\u001b[31mIndexError\u001b[39m                                Traceback (most recent call last)",
      "\u001b[36mCell\u001b[39m\u001b[36m \u001b[39m\u001b[32mIn[25]\u001b[39m\u001b[32m, line 26\u001b[39m\n\u001b[32m     19\u001b[39m dict2 = {\n\u001b[32m     20\u001b[39m     \u001b[32m5\u001b[39m : \u001b[33m\"\u001b[39m\u001b[33mGood morning!\u001b[39m\u001b[33m\"\u001b[39m,\n\u001b[32m     21\u001b[39m     \u001b[32m12\u001b[39m: \u001b[33m\"\u001b[39m\u001b[33mGood day!\u001b[39m\u001b[33m\"\u001b[39m,\n\u001b[32m     22\u001b[39m     \u001b[32m13\u001b[39m: \u001b[33m\"\u001b[39m\u001b[33mGood afternoon!\u001b[39m\u001b[33m\"\u001b[39m,\n\u001b[32m     23\u001b[39m     \u001b[32m17\u001b[39m: \u001b[33m\"\u001b[39m\u001b[33mGood night!\u001b[39m\u001b[33m\"\u001b[39m\n\u001b[32m     24\u001b[39m }\n\u001b[32m     25\u001b[39m \u001b[38;5;28;01mfor\u001b[39;00m index, value \u001b[38;5;129;01min\u001b[39;00m \u001b[38;5;28menumerate\u001b[39m(dictime):\n\u001b[32m---> \u001b[39m\u001b[32m26\u001b[39m     \u001b[38;5;28;01mif\u001b[39;00m (time < \u001b[43mdictime\u001b[49m\u001b[43m[\u001b[49m\u001b[43mindex\u001b[49m\u001b[43m+\u001b[49m\u001b[32;43m1\u001b[39;49m\u001b[43m]\u001b[49m) \u001b[38;5;129;01mand\u001b[39;00m (time > value):\n\u001b[32m     27\u001b[39m         \u001b[38;5;28mprint\u001b[39m(\u001b[33m\"\u001b[39m\u001b[38;5;132;01m{}\u001b[39;00m\u001b[33m, \u001b[39m\u001b[38;5;132;01m{}\u001b[39;00m\u001b[33m!\u001b[39m\u001b[33m\"\u001b[39m.format(dict2[value],name))\n",
      "\u001b[31mIndexError\u001b[39m: list index out of range"
     ]
    }
   ],
   "source": [
    "name, time = input(\"Please enter your name: \"), input(\"Please enter your time: \")\n",
    "holder = []\n",
    "for index, i in enumerate(time):\n",
    "    holder.append(i)\n",
    "    if i == \":\":\n",
    "        print(\"hit\")\n",
    "        holder.pop(index)\n",
    "        holder.append(\".\")\n",
    "time = ''.join(holder)\n",
    "\n",
    "if time[-2:] == \"pm\":\n",
    "    time = float(time[:-2])+12\n",
    "elif time[-2:] == \"am\":\n",
    "    time = float(time[:-2])\n",
    "else:\n",
    "    time = float(time)\n",
    "    \n",
    "dictime = [5, 12, 13, 17, 21]\n",
    "dict2 = {\n",
    "    5 : \"Good morning!\",\n",
    "    12: \"Good day!\",\n",
    "    13: \"Good afternoon!\",\n",
    "    17: \"Good night!\"\n",
    "}\n",
    "for index, value in enumerate(dictime):\n",
    "    if (time < dictime[index+1]) and (time > value):\n",
    "        print(\"{}, {}!\".format(dict2[value],name))"
   ]
  },
  {
   "cell_type": "code",
   "execution_count": null,
   "id": "46087e85-4a1b-4fca-83a6-d7a612831bcf",
   "metadata": {},
   "outputs": [
    {
     "name": "stdout",
     "output_type": "stream",
     "text": [
      "hit\n",
      "0 5\n",
      "Good morning!, wen!\n",
      "1 12\n",
      "2 13\n",
      "3 17\n",
      "4 21\n"
     ]
    },
    {
     "ename": "IndexError",
     "evalue": "list index out of range",
     "output_type": "error",
     "traceback": [
      "\u001b[31m---------------------------------------------------------------------------\u001b[39m",
      "\u001b[31mIndexError\u001b[39m                                Traceback (most recent call last)",
      "\u001b[36mCell\u001b[39m\u001b[36m \u001b[39m\u001b[32mIn[26]\u001b[39m\u001b[32m, line 27\u001b[39m\n\u001b[32m     25\u001b[39m \u001b[38;5;28;01mfor\u001b[39;00m index, value \u001b[38;5;129;01min\u001b[39;00m \u001b[38;5;28menumerate\u001b[39m(dictime):\n\u001b[32m     26\u001b[39m     \u001b[38;5;28mprint\u001b[39m(index, value)\n\u001b[32m---> \u001b[39m\u001b[32m27\u001b[39m     \u001b[38;5;28;01mif\u001b[39;00m (time < \u001b[43mdictime\u001b[49m\u001b[43m[\u001b[49m\u001b[43mindex\u001b[49m\u001b[43m+\u001b[49m\u001b[32;43m1\u001b[39;49m\u001b[43m]\u001b[49m) \u001b[38;5;129;01mand\u001b[39;00m (time > value):\n\u001b[32m     28\u001b[39m         \u001b[38;5;28mprint\u001b[39m(\u001b[33m\"\u001b[39m\u001b[38;5;132;01m{}\u001b[39;00m\u001b[33m, \u001b[39m\u001b[38;5;132;01m{}\u001b[39;00m\u001b[33m!\u001b[39m\u001b[33m\"\u001b[39m.format(dict2[value],name))\n",
      "\u001b[31mIndexError\u001b[39m: list index out of range"
     ]
    }
   ],
   "source": [
    "name, time = input(\"Please enter your name: \"), input(\"Please enter your time: \")\n",
    "holder = []\n",
    "for index, i in enumerate(time):\n",
    "    holder.append(i)\n",
    "    if i == \":\":\n",
    "        print(\"hit\")\n",
    "        holder.pop(index)\n",
    "        holder.append(\".\")\n",
    "time = ''.join(holder)\n",
    "\n",
    "if time[-2:] == \"pm\":\n",
    "    time = float(time[:-2])+12\n",
    "elif time[-2:] == \"am\":\n",
    "    time = float(time[:-2])\n",
    "else:\n",
    "    time = float(time)\n",
    "    \n",
    "dictime = [5, 12, 13, 17, 21]\n",
    "dict2 = {\n",
    "    5 : \"Good morning!\",\n",
    "    12: \"Good day!\",\n",
    "    13: \"Good afternoon!\",\n",
    "    17: \"Good night!\"\n",
    "}\n",
    "for index, value in enumerate(dictime):\n",
    "    print(index, value)\n",
    "    if (time < dictime[index+1]) and (time > value):\n",
    "        print(\"{}, {}!\".format(dict2[value],name))"
   ]
  },
  {
   "cell_type": "code",
   "execution_count": null,
   "id": "e463c003-cbb9-4e68-a600-9bbe6bc154b1",
   "metadata": {},
   "outputs": [
    {
     "name": "stdout",
     "output_type": "stream",
     "text": [
      "hit\n",
      "Good morning!, wen!\n"
     ]
    }
   ],
   "source": [
    "name, time = input(\"Please enter your name: \"), input(\"Please enter your time: \")\n",
    "holder = []\n",
    "for index, i in enumerate(time):\n",
    "    holder.append(i)\n",
    "    if i == \":\":\n",
    "        print(\"hit\")\n",
    "        holder.pop(index)\n",
    "        holder.append(\".\")\n",
    "time = ''.join(holder)\n",
    "\n",
    "if time[-2:] == \"pm\":\n",
    "    time = float(time[:-2])+12\n",
    "elif time[-2:] == \"am\":\n",
    "    time = float(time[:-2])\n",
    "else:\n",
    "    time = float(time)\n",
    "    \n",
    "dictime = [5, 12, 13, 17, 21]\n",
    "dict2 = {\n",
    "    5 : \"Good morning!\",\n",
    "    12: \"Good day!\",\n",
    "    13: \"Good afternoon!\",\n",
    "    17: \"Good night!\"\n",
    "}\n",
    "for index, value in enumerate(dictime):\n",
    "    if (time < dictime[index+1]) and (time > value):\n",
    "        print(\"{}, {}!\".format(dict2[value],name))\n",
    "        break"
   ]
  },
  {
   "cell_type": "code",
   "execution_count": null,
   "id": "2130bc8f-b31a-4fb9-9fa1-106aecc2076b",
   "metadata": {},
   "outputs": [
    {
     "name": "stdout",
     "output_type": "stream",
     "text": [
      "-\n",
      "-\n",
      "-\n",
      "-\n",
      "-\n",
      "-\n",
      "-\n",
      "-\n",
      "-\n",
      "-\n",
      "-\n",
      "-\n",
      "-\n",
      "-\n",
      "-\n",
      "-\n",
      "-\n",
      "-\n",
      "-\n",
      "-\n",
      "-\n",
      "-\n",
      "-\n",
      "-\n",
      "-\n",
      "-\n",
      "-\n",
      "-\n",
      "-\n",
      "-\n",
      "-\n",
      "-\n",
      "-\n",
      "-\n",
      "-\n",
      "-\n",
      "-\n",
      "-\n",
      "-\n",
      "-\n",
      "-\n",
      "-\n",
      "-\n",
      "-\n",
      "-\n",
      "-\n",
      "-\n",
      "-\n",
      "-\n",
      "-\n"
     ]
    }
   ],
   "source": [
    "import time\n",
    "\n",
    "for i in range(50):\n",
    "    time.sleep(0.25)\n",
    "    print(\"-\")"
   ]
  },
  {
   "cell_type": "code",
   "execution_count": null,
   "id": "b0203790-0518-46cf-8cba-33f832cb4dfd",
   "metadata": {},
   "outputs": [
    {
     "name": "stdout",
     "output_type": "stream",
     "text": [
      "--------------------------------------------------"
     ]
    }
   ],
   "source": [
    "import time\n",
    "\n",
    "for i in range(50):\n",
    "    time.sleep(0.25)\n",
    "    print(\"-\", end = \"\")"
   ]
  },
  {
   "cell_type": "code",
   "execution_count": null,
   "id": "e8a6a94a-11b6-4e70-880b-5ac31def363d",
   "metadata": {},
   "outputs": [
    {
     "name": "stdout",
     "output_type": "stream",
     "text": [
      "--------------------------------------------------L0AD1NG--------------------------------------------------Loading complete. Welcome, new player.\n"
     ]
    }
   ],
   "source": [
    "import time\n",
    "\n",
    "for i in range(50):\n",
    "    time.sleep(0.1)\n",
    "    print(\"-\", end = \"\")\n",
    "for i in [\"L\",\"0\",\"A\",\"D\",\"1\",\"N\",\"G\"]:\n",
    "    time.sleep(0.05)\n",
    "    print(i, end = \"\")\n",
    "for i in range(50):\n",
    "    time.sleep(0.1)\n",
    "    print(\"-\", end = \"\")\n",
    "    \n",
    "print(\"Loading complete. Welcome, new player.\")\n",
    "name = input(\"Please input your name: \")"
   ]
  },
  {
   "cell_type": "code",
   "execution_count": null,
   "id": "f6d92ed0-77fe-42c8-bb95-8b5a5e440438",
   "metadata": {},
   "outputs": [
    {
     "name": "stdout",
     "output_type": "stream",
     "text": [
      "-------------------------L0AD1NG-------------------------Loading complete. Welcome, new player.\n",
      "\n",
      "-------------------------L0AD1NG-------------------------"
     ]
    }
   ],
   "source": [
    "import time\n",
    "def load():\n",
    "    for i in range(25):\n",
    "        time.sleep(0.1)\n",
    "        print(\"-\", end = \"\")\n",
    "    for i in [\"L\",\"0\",\"A\",\"D\",\"1\",\"N\",\"G\"]:\n",
    "        time.sleep(0.05)\n",
    "        print(i, end = \"\")\n",
    "    for i in range(25):\n",
    "        time.sleep(0.1)\n",
    "        print(\"-\", end = \"\")\n",
    "    \n",
    "load()    \n",
    "print(\"Loading complete. Welcome, new player.\\n\")\n",
    "name = input(\"Please input your name: \")\n",
    "load()"
   ]
  },
  {
   "cell_type": "code",
   "execution_count": null,
   "id": "1a53e109-b841-4e4b-bdfa-74cf65d16a82",
   "metadata": {},
   "outputs": [
    {
     "name": "stdout",
     "output_type": "stream",
     "text": [
      "-------------------------L0AD1NG-------------------------\n",
      "Loading complete. Welcome, new player.\n",
      "\n",
      "-------------------------L0AD1NG-------------------------"
     ]
    }
   ],
   "source": [
    "import time\n",
    "def load():\n",
    "    for i in range(25):\n",
    "        time.sleep(0.1)\n",
    "        print(\"-\", end = \"\")\n",
    "    for i in [\"L\",\"0\",\"A\",\"D\",\"1\",\"N\",\"G\"]:\n",
    "        time.sleep(0.05)\n",
    "        print(i, end = \"\")\n",
    "    for i in range(25):\n",
    "        time.sleep(0.1)\n",
    "        print(\"-\", end = \"\")\n",
    "    \n",
    "load()    \n",
    "print(\"\\nLoading complete. Welcome, new player.\\n\")\n",
    "name = input(\"Please input your name: \")\n",
    "load()"
   ]
  }
 ],
 "metadata": {
  "kernelspec": {
   "display_name": "Python 3",
   "language": "python",
   "name": "python3"
  },
  "language_info": {
   "name": "python",
   "version": "3.12.3"
  }
 },
 "nbformat": 4,
 "nbformat_minor": 2
}
