{
 "cells": [
  {
   "cell_type": "code",
   "execution_count": null,
   "id": "567215eb",
   "metadata": {},
   "outputs": [],
   "source": [
    "#TASKING ORDER 2.1"
   ]
  },
  {
   "cell_type": "code",
   "execution_count": null,
   "id": "a73279a9",
   "metadata": {},
   "outputs": [],
   "source": [
    "def insertion_sort(data_list, index, ascending):\n",
    "    search = [x for x[index] in data_list]\n",
    "    for i in range(1,len(search)):\n",
    "        key = search[i]\n",
    "        j=i-1\n",
    "        while j >=0 and key<search[j]:\n",
    "            search[j] = search[j+1]\n",
    "            j-=1\n",
    "        key = search[j]\n",
    "\n",
    "    if ascending == False:\n",
    "        search.reverse()\n",
    "    lookup = {x[index]: x for x in data_list}\n",
    "    sorted_search = [lookup[v] for v in search]\n",
    "    return sorted_search"
   ]
  },
  {
   "cell_type": "code",
   "execution_count": null,
   "id": "4612a20a",
   "metadata": {},
   "outputs": [],
   "source": [
    "#TAKSING ORDER 2.2"
   ]
  },
  {
   "cell_type": "code",
   "execution_count": null,
   "id": "9de23670",
   "metadata": {},
   "outputs": [],
   "source": [
    "import csv\n",
    "\n",
    "def task2_2(filename):\n",
    "    with open(filename, \"r\") as file:\n",
    "        rd = csv.reader(file)\n",
    "        return [tuple(x) for x in rd]"
   ]
  },
  {
   "cell_type": "code",
   "execution_count": null,
   "id": "c137d572",
   "metadata": {},
   "outputs": [],
   "source": [
    "#TASKING ORDER 2.3"
   ]
  },
  {
   "cell_type": "code",
   "execution_count": null,
   "id": "5a3c5c12",
   "metadata": {},
   "outputs": [],
   "source": []
  }
 ],
 "metadata": {
  "language_info": {
   "name": "python"
  }
 },
 "nbformat": 4,
 "nbformat_minor": 5
}
